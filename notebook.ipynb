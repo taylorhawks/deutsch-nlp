{
 "cells": [
  {
   "cell_type": "code",
   "execution_count": 32,
   "metadata": {},
   "outputs": [],
   "source": [
    "import sys\n",
    "import os\n",
    "import nltk"
   ]
  },
  {
   "cell_type": "code",
   "execution_count": 33,
   "metadata": {},
   "outputs": [],
   "source": [
    "class classproperty(object):\n",
    "    '''\n",
    "    This is a helper that will be used as a decorator.\n",
    "    Class property handling doesn't natively exist in Python.\n",
    "    '''\n",
    "    def __init__(self, getter):\n",
    "        self.getter= getter\n",
    "    def __get__(self, instance, owner):\n",
    "        return self.getter(owner)"
   ]
  },
  {
   "cell_type": "code",
   "execution_count": 34,
   "metadata": {},
   "outputs": [],
   "source": [
    "class Book():\n",
    "    _all = []\n",
    "    \n",
    "    @classmethod\n",
    "    def add_to_all(cls,obj):\n",
    "        if obj._str == None: #it's a book\n",
    "            if obj.title not in [i.title for i in cls._all if i.author == obj.author]:\n",
    "                cls._all.append(obj)\n",
    "            else:\n",
    "                print('Entry already exists.')\n",
    "        elif obj._str not in [i._str for i in cls._all]: #it's a sample and it's not read in yet\n",
    "            cls._all.append(obj)\n",
    "        else:\n",
    "            print('Entry already exists.')\n",
    "        \n",
    "    def __init__(self,author,title,_str=None):\n",
    "        self._str = _str\n",
    "        self.fpath = author + '/' + title\n",
    "        self.title = title\n",
    "        self.author = author\n",
    "        self.__class__.add_to_all(self)\n",
    "    \n",
    "    @classproperty\n",
    "    def all(cls):\n",
    "        return cls._all\n",
    "    \n",
    "    def read(self):\n",
    "        with open('./Authors/' + self.fpath + '.txt',encoding='iso-8859-1') as f:\n",
    "            self.text = f.read()\n",
    "        #need to validate this\n",
    "        self.text = self.text.split('Falls Sie Fehler finden bitte bei DigBib.Org melden.')[1]\n",
    "        self.text = self.text.replace('\\n',' ')\n",
    "    def preprocess(self):\n",
    "        #remove stopwords and certain characters\n",
    "        pass"
   ]
  },
  {
   "cell_type": "code",
   "execution_count": 35,
   "metadata": {},
   "outputs": [],
   "source": [
    "#inherit preprocessing\n",
    "class Sample():\n",
    "    def __init__(self,_str):\n",
    "        return Book(self,None,None,_str)\n",
    "    def read(self):\n",
    "        self.text = self._str"
   ]
  },
  {
   "cell_type": "code",
   "execution_count": 36,
   "metadata": {},
   "outputs": [],
   "source": [
    "def get_books():\n",
    "    for author in os.listdir('Authors'):\n",
    "        if author != '.DS_Store': #not an author i'm familiar with\n",
    "            for book in os.listdir('Authors/' + author):\n",
    "                Book(author,book.split('.')[0])"
   ]
  },
  {
   "cell_type": "code",
   "execution_count": 37,
   "metadata": {},
   "outputs": [],
   "source": [
    "def read_books():\n",
    "    for book in Book.all:\n",
    "        book.read()"
   ]
  },
  {
   "cell_type": "code",
   "execution_count": 38,
   "metadata": {},
   "outputs": [],
   "source": [
    "get_books()\n",
    "read_books()"
   ]
  },
  {
   "cell_type": "code",
   "execution_count": null,
   "metadata": {},
   "outputs": [],
   "source": []
  },
  {
   "cell_type": "code",
   "execution_count": 40,
   "metadata": {},
   "outputs": [
    {
     "data": {
      "text/plain": [
       "'  Knabenmärchen  aus Dichtung und Wahrheit (1811)  Mir träumte neulich in der Nacht vor Pfingstsonntag, als stünde ich vor einem Spiegel und beschäftigte mich mit den neuen Sommerkleidern, welche mir die lieben Eltern auf das Fest hatten machen lassen. Der Anzug bestand, wie ihr wißt, in Schuhen von'"
      ]
     },
     "execution_count": 40,
     "metadata": {},
     "output_type": "execute_result"
    }
   ],
   "source": [
    "Book.all[20].text[0:300]"
   ]
  },
  {
   "cell_type": "code",
   "execution_count": null,
   "metadata": {},
   "outputs": [],
   "source": []
  }
 ],
 "metadata": {
  "kernelspec": {
   "display_name": "Python 3",
   "language": "python",
   "name": "python3"
  },
  "language_info": {
   "codemirror_mode": {
    "name": "ipython",
    "version": 3
   },
   "file_extension": ".py",
   "mimetype": "text/x-python",
   "name": "python",
   "nbconvert_exporter": "python",
   "pygments_lexer": "ipython3",
   "version": "3.6.8"
  }
 },
 "nbformat": 4,
 "nbformat_minor": 2
}
