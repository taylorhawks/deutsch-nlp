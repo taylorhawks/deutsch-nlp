{
 "cells": [
  {
   "cell_type": "markdown",
   "metadata": {},
   "source": [
    "#### resources\n",
    "https://www.quora.com/Can-NLTK-be-used-for-multinomial-Naive-Bayes-classification"
   ]
  },
  {
   "cell_type": "code",
   "execution_count": 171,
   "metadata": {},
   "outputs": [],
   "source": [
    "import sys\n",
    "import os\n",
    "import json\n",
    "\n",
    "import nltk\n",
    "from nltk.stem.snowball import SnowballStemmer\n",
    "\n",
    "import pandas as pd\n",
    "import numpy as np\n",
    "\n",
    "from sklearn.feature_extraction.text import TfidfVectorizer\n",
    "from sklearn.naive_bayes import MultinomialNB as MNB\n",
    "from sklearn.model_selection import train_test_split as train_test_lit\n",
    "from sklearn.metrics import classification_report, confusion_matrix, roc_curve, auc, accuracy_score\n",
    "from imblearn.over_sampling import SMOTE\n",
    "\n",
    "import matplotlib.pyplot as plt\n",
    "import seaborn as sns\n",
    "\n",
    "import itertools\n",
    "from time import time"
   ]
  },
  {
   "cell_type": "code",
   "execution_count": 141,
   "metadata": {},
   "outputs": [],
   "source": [
    "# function to plot confusion matrix \n",
    "def show_cf(y_true, y_pred, class_names=None):\n",
    "    cf = confusion_matrix(y_true, y_pred)\n",
    "    plt.imshow(cf, cmap=plt.cm.Blues)\n",
    "    \n",
    "    plt.title(\"Confusion Matrix\")\n",
    "    plt.ylabel('True Label')\n",
    "    plt.xlabel('Predicted Label')\n",
    "    \n",
    "    class_names = set(y_true)\n",
    "    tick_marks = np.arange(len(class_names))\n",
    "    if class_names:\n",
    "        plt.xticks(tick_marks, class_names, rotation='vertical')\n",
    "        plt.yticks(tick_marks, class_names)\n",
    "    \n",
    "    thresh = cf.max() / 2.\n",
    "    \n",
    "    for i, j in itertools.product(range(cf.shape[0]), range(cf.shape[1])):\n",
    "        plt.text(j, i, cf[i, j], horizontalalignment='center', color='white' if cf[i, j] > thresh else 'black')\n",
    "\n",
    "    plt.colorbar()\n",
    "\n",
    "#useful tool\n",
    "class classproperty(object):\n",
    "    '''\n",
    "    This is a helper that will be used as a decorator.\n",
    "    Class property handling doesn't natively exist in Python.\n",
    "    '''\n",
    "    def __init__(self, getter):\n",
    "        self.getter= getter\n",
    "    def __get__(self, instance, owner):\n",
    "        return self.getter(owner)"
   ]
  },
  {
   "cell_type": "code",
   "execution_count": 151,
   "metadata": {},
   "outputs": [],
   "source": [
    "authors = [\n",
    "    'Friedrich von Schiller',\n",
    "    'Johann Wolfgang von Goethe',\n",
    "    'Rainer Maria Rilke',\n",
    "    'Franz Grillparzer',\n",
    "    'Franz Kafka'\n",
    "]"
   ]
  },
  {
   "cell_type": "code",
   "execution_count": 152,
   "metadata": {},
   "outputs": [],
   "source": [
    "with open('stopwords-de-master/stopwords-de.json', 'r') as f:\n",
    "    stopwords = json.load(f)"
   ]
  },
  {
   "cell_type": "code",
   "execution_count": 153,
   "metadata": {},
   "outputs": [
    {
     "data": {
      "text/plain": [
       "['a', 'ab', 'aber', 'ach', 'acht']"
      ]
     },
     "execution_count": 153,
     "metadata": {},
     "output_type": "execute_result"
    }
   ],
   "source": [
    "stopwords[0:5]"
   ]
  },
  {
   "cell_type": "code",
   "execution_count": 154,
   "metadata": {},
   "outputs": [],
   "source": [
    "tokenizer = nltk.data.load('tokenizers/punkt/german.pickle')\n",
    "stemmer = SnowballStemmer(language = 'german')"
   ]
  },
  {
   "cell_type": "code",
   "execution_count": 221,
   "metadata": {},
   "outputs": [],
   "source": [
    "class Book():\n",
    "    _all = []\n",
    "    \n",
    "    @classmethod\n",
    "    def add_to_all(cls,obj):\n",
    "        if obj._str == None: #it's a book\n",
    "            if obj.title not in [i.title for i in cls._all if i.author == obj.author]:\n",
    "                cls._all.append(obj)\n",
    "            else:\n",
    "                print('Entry already exists.')\n",
    "        elif obj._str not in [i._str for i in cls._all]: #it's a sample and it's not read in yet\n",
    "            cls._all.append(obj)\n",
    "        else:\n",
    "            print('Entry already exists.')\n",
    "        \n",
    "    def __init__(self,author,title,_str=None):\n",
    "        self._str = _str\n",
    "        if title != None:\n",
    "            self.title = title\n",
    "        if author != None:\n",
    "            self.author = author\n",
    "        if (author != None) and (title != None):\n",
    "            self.__class__.add_to_all(self)\n",
    "            self.fpath = author + '/' + title\n",
    "            \n",
    "        #do the stuff\n",
    "        self.read()\n",
    "        self.tokenize()\n",
    "        self.remove_symbols()\n",
    "        self.remove_stopwords_and_stem(stemmer)\n",
    "\n",
    "    @classproperty\n",
    "    def all(cls):\n",
    "        return pd.concat(\n",
    "            pd.DataFrame(\n",
    "                [[book.author,sentence] for sentence in book.sentences],\n",
    "                columns = ['author','sentence']\n",
    "            ) for book in cls._all)\n",
    "    \n",
    "    @classmethod\n",
    "    def get_books(cls):\n",
    "        for author in os.listdir('Authors'):\n",
    "            if author != '.DS_Store': #not an author i'm familiar with\n",
    "                for book in os.listdir('Authors/' + author):\n",
    "                    Book(author,book.split('.')[0])\n",
    "    \n",
    "    def read(self):\n",
    "        if self._str:\n",
    "            self.text = self._str\n",
    "        else:\n",
    "            with open('./Authors/' + self.fpath + '.txt',encoding='iso-8859-1') as f:\n",
    "                self.text = f.read()\n",
    "            try:\n",
    "                self.text = self.text.split('Falls Sie Fehler finden bitte bei DigBib.Org melden.')[1]\n",
    "            except:\n",
    "                pass\n",
    "            self.text = self.text.replace('\\n',' ')\n",
    "    def tokenize(self):\n",
    "        self.sentences = tokenizer.tokenize(self.text)\n",
    "    \n",
    "    def remove_symbols(self):\n",
    "        for symbol in \"\"\"“”<>{}[]&*^%$#@~`_+=-\"\"'':;(),.?!''\\n»«\"\"\":\n",
    "            self.sentences = [sentence.replace(symbol, '').strip(' ') for sentence in self.sentences]\n",
    "    def remove_stopwords_and_stem(self,stemmer):\n",
    "        for i, sentence in enumerate(self.sentences):\n",
    "            r = []\n",
    "            for word in sentence.split():\n",
    "                if word.lower() not in stopwords:\n",
    "                    r.append(stemmer.stem(word.lower()))\n",
    "            self.sentences[i] = ' '.join(r)\n",
    "    "
   ]
  },
  {
   "cell_type": "code",
   "execution_count": 222,
   "metadata": {
    "scrolled": true
   },
   "outputs": [
    {
     "name": "stdout",
     "output_type": "stream",
     "text": [
      "15.941114902496338\n"
     ]
    }
   ],
   "source": [
    "start = time()\n",
    "Book.get_books()\n",
    "print(time()-start)"
   ]
  },
  {
   "cell_type": "code",
   "execution_count": 157,
   "metadata": {},
   "outputs": [
    {
     "data": {
      "text/html": [
       "<div>\n",
       "<style scoped>\n",
       "    .dataframe tbody tr th:only-of-type {\n",
       "        vertical-align: middle;\n",
       "    }\n",
       "\n",
       "    .dataframe tbody tr th {\n",
       "        vertical-align: top;\n",
       "    }\n",
       "\n",
       "    .dataframe thead th {\n",
       "        text-align: right;\n",
       "    }\n",
       "</style>\n",
       "<table border=\"1\" class=\"dataframe\">\n",
       "  <thead>\n",
       "    <tr style=\"text-align: right;\">\n",
       "      <th></th>\n",
       "      <th>author</th>\n",
       "      <th>sentence</th>\n",
       "    </tr>\n",
       "  </thead>\n",
       "  <tbody>\n",
       "    <tr>\n",
       "      <th>0</th>\n",
       "      <td>Franz Grillparzer</td>\n",
       "      <td>erzahl 1847 wien sonntag vollmond monat juli j...</td>\n",
       "    </tr>\n",
       "    <tr>\n",
       "      <th>1</th>\n",
       "      <td>Franz Grillparzer</td>\n",
       "      <td>volk besucht vornehm erschein eigenschaft glie...</td>\n",
       "    </tr>\n",
       "    <tr>\n",
       "      <th>2</th>\n",
       "      <td>Franz Grillparzer</td>\n",
       "      <td>moglich absonder</td>\n",
       "    </tr>\n",
       "    <tr>\n",
       "      <th>3</th>\n",
       "      <td>Franz Grillparzer</td>\n",
       "      <td>feiert augart leopoldstadt prat ununterbroch l...</td>\n",
       "    </tr>\n",
       "    <tr>\n",
       "      <th>4</th>\n",
       "      <td>Franz Grillparzer</td>\n",
       "      <td>brigittenkirchtag brigittenkirchtag zahlt gut ...</td>\n",
       "    </tr>\n",
       "  </tbody>\n",
       "</table>\n",
       "</div>"
      ],
      "text/plain": [
       "              author                                           sentence\n",
       "0  Franz Grillparzer  erzahl 1847 wien sonntag vollmond monat juli j...\n",
       "1  Franz Grillparzer  volk besucht vornehm erschein eigenschaft glie...\n",
       "2  Franz Grillparzer                                   moglich absonder\n",
       "3  Franz Grillparzer  feiert augart leopoldstadt prat ununterbroch l...\n",
       "4  Franz Grillparzer  brigittenkirchtag brigittenkirchtag zahlt gut ..."
      ]
     },
     "execution_count": 157,
     "metadata": {},
     "output_type": "execute_result"
    }
   ],
   "source": [
    "df = Book.all\n",
    "df = df[df.author.isin(authors)]\n",
    "df.head()"
   ]
  },
  {
   "cell_type": "code",
   "execution_count": 158,
   "metadata": {},
   "outputs": [
    {
     "data": {
      "text/plain": [
       "['Friedrich von Schiller',\n",
       " 'Johann Wolfgang von Goethe',\n",
       " 'Rainer Maria Rilke',\n",
       " 'Franz Grillparzer',\n",
       " 'Franz Kafka']"
      ]
     },
     "execution_count": 158,
     "metadata": {},
     "output_type": "execute_result"
    }
   ],
   "source": [
    "authors"
   ]
  },
  {
   "cell_type": "markdown",
   "metadata": {},
   "source": [
    "---"
   ]
  },
  {
   "cell_type": "code",
   "execution_count": 159,
   "metadata": {},
   "outputs": [],
   "source": [
    "tfidf = TfidfVectorizer()"
   ]
  },
  {
   "cell_type": "code",
   "execution_count": 160,
   "metadata": {},
   "outputs": [
    {
     "data": {
      "text/plain": [
       "TfidfVectorizer(analyzer='word', binary=False, decode_error='strict',\n",
       "                dtype=<class 'numpy.float64'>, encoding='utf-8',\n",
       "                input='content', lowercase=True, max_df=1.0, max_features=None,\n",
       "                min_df=1, ngram_range=(1, 1), norm='l2', preprocessor=None,\n",
       "                smooth_idf=True, stop_words=None, strip_accents=None,\n",
       "                sublinear_tf=False, token_pattern='(?u)\\\\b\\\\w\\\\w+\\\\b',\n",
       "                tokenizer=None, use_idf=True, vocabulary=None)"
      ]
     },
     "execution_count": 160,
     "metadata": {},
     "output_type": "execute_result"
    }
   ],
   "source": [
    "tfidf.fit(df.sentence)"
   ]
  },
  {
   "cell_type": "code",
   "execution_count": 164,
   "metadata": {},
   "outputs": [],
   "source": [
    "tfidf_matrix = tfidf.transform(df.sentence)\n",
    "target = df.author\n",
    "\n",
    "X_train, X_test, y_train, y_test = train_test_lit( #🔥\n",
    "    tfidf_matrix,\n",
    "    target,\n",
    "    stratify=target,\n",
    "    test_size = 0.2\n",
    ")"
   ]
  },
  {
   "cell_type": "code",
   "execution_count": 172,
   "metadata": {},
   "outputs": [],
   "source": [
    "sm = SMOTE(sampling_strategy = 'not majority') \n",
    "X_train, y_train = sm.fit_resample(X_train,y_train)"
   ]
  },
  {
   "cell_type": "code",
   "execution_count": 173,
   "metadata": {},
   "outputs": [],
   "source": [
    "clf = MNB()\n",
    "clf.fit(X_train.todense(),y_train)\n",
    "preds = clf.predict(X_test.todense()) "
   ]
  },
  {
   "cell_type": "code",
   "execution_count": 174,
   "metadata": {},
   "outputs": [
    {
     "data": {
      "image/png": "[encoded data removed]",
      "text/plain": [
       "<Figure size 432x288 with 2 Axes>"
      ]
     },
     "metadata": {
      "needs_background": "light"
     },
     "output_type": "display_data"
    }
   ],
   "source": [
    "show_cf(y_test, preds) \n"
   ]
  },
  {
   "cell_type": "code",
   "execution_count": null,
   "metadata": {},
   "outputs": [],
   "source": []
  },
  {
   "cell_type": "markdown",
   "metadata": {},
   "source": [
    "---"
   ]
  },
  {
   "cell_type": "code",
   "execution_count": 255,
   "metadata": {},
   "outputs": [],
   "source": [
    "#inherit preprocessing\n",
    "class Sample(Book):\n",
    "    samples = []\n",
    "    def __init__(self,_str):\n",
    "        super(Sample,self).__init__(None,None,_str)\n",
    "        self.tokenize()\n",
    "        self.remove_symbols()\n",
    "        self.remove_stopwords_and_stem(stemmer)\n",
    "        Sample.samples.append(self)\n",
    "    def predict(self,model):\n",
    "        return model.predict(\n",
    "            tfidf.transform(\n",
    "                self.sentences\n",
    "            ).todense()\n",
    "        )[0] "
   ]
  },
  {
   "cell_type": "code",
   "execution_count": 262,
   "metadata": {},
   "outputs": [],
   "source": [
    "s = Sample('Bruder, sag mir, was für Bremsen? Mein Mercedes hält von selbst.')"
   ]
  },
  {
   "cell_type": "code",
   "execution_count": 263,
   "metadata": {},
   "outputs": [
    {
     "data": {
      "text/plain": [
       "'Johann Wolfgang von Goethe'"
      ]
     },
     "execution_count": 263,
     "metadata": {},
     "output_type": "execute_result"
    }
   ],
   "source": [
    "s.predict(clf)"
   ]
  },
  {
   "cell_type": "code",
   "execution_count": null,
   "metadata": {},
   "outputs": [],
   "source": []
  }
 ],
 "metadata": {
  "kernelspec": {
   "display_name": "Python 3",
   "language": "python",
   "name": "python3"
  },
  "language_info": {
   "codemirror_mode": {
    "name": "ipython",
    "version": 3
   },
   "file_extension": ".py",
   "mimetype": "text/x-python",
   "name": "python",
   "nbconvert_exporter": "python",
   "pygments_lexer": "ipython3",
   "version": "3.6.8"
  }
 },
 "nbformat": 4,
 "nbformat_minor": 2
}
