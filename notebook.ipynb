{
 "cells": [
  {
   "cell_type": "code",
   "execution_count": 281,
   "metadata": {},
   "outputs": [],
   "source": [
    "import sys\n",
    "import os\n",
    "import nltk"
   ]
  },
  {
   "cell_type": "code",
   "execution_count": 282,
   "metadata": {},
   "outputs": [],
   "source": [
    "class classproperty(object):\n",
    "    '''\n",
    "    This is a helper that will be used as a decorator.\n",
    "    Class property handling doesn't natively exist in Python.\n",
    "    '''\n",
    "    def __init__(self, getter):\n",
    "        self.getter= getter\n",
    "    def __get__(self, instance, owner):\n",
    "        return self.getter(owner)"
   ]
  },
  {
   "cell_type": "code",
   "execution_count": 296,
   "metadata": {},
   "outputs": [],
   "source": [
    "class Book():\n",
    "    _all = []\n",
    "    \n",
    "    @classmethod\n",
    "    def add_to_all(cls,obj):\n",
    "        if obj._str == None: #it's a book\n",
    "            if obj.title not in [i.title for i in cls._all if i.author == obj.author]:\n",
    "                cls._all.append(obj)\n",
    "            else:\n",
    "                print('entry already exists')\n",
    "        elif obj._str not in [i._str for i in cls._all]: #it's a sample and it's not read in yet\n",
    "            cls._all.append(obj)\n",
    "        else:\n",
    "            print('entry already exists')\n",
    "        \n",
    "    def __init__(self,author,title,_str=None):\n",
    "        self._str = _str\n",
    "        self.fpath = author + '/' + title\n",
    "        self.title = title\n",
    "        self.author = author\n",
    "        self.__class__.add_to_all(self)\n",
    "    \n",
    "    @classproperty\n",
    "    def all(cls):\n",
    "        return cls._all\n",
    "    \n",
    "    def read(self):\n",
    "        with open('./Authors/' + self.fpath + '.txt',encoding='iso-8859-1') as f:\n",
    "            self.text = f.read()\n",
    "        #need to validate this\n",
    "        self.text = self.text.split('Falls Sie Fehler finden bitte bei DigBib.Org melden.')[1]\n",
    "        self.text = self.text.replace('\\n',' ')\n",
    "    def preprocess(self):\n",
    "        #remove stopwords and certain characters\n",
    "        pass"
   ]
  },
  {
   "cell_type": "code",
   "execution_count": 285,
   "metadata": {},
   "outputs": [],
   "source": [
    "#inherit preprocessing\n",
    "class Sample():\n",
    "    def __init__(self,_str):\n",
    "        return Book(self,None,None,_str)\n",
    "    def read(self):\n",
    "        return None"
   ]
  },
  {
   "cell_type": "code",
   "execution_count": 298,
   "metadata": {},
   "outputs": [],
   "source": [
    "def get_books():\n",
    "    for author in os.listdir('Authors'):\n",
    "        for book in os.listdir('Authors/' + author):\n",
    "            Book(author,book.rstrip('.txt'))"
   ]
  },
  {
   "cell_type": "code",
   "execution_count": 299,
   "metadata": {},
   "outputs": [],
   "source": [
    "get_books()"
   ]
  },
  {
   "cell_type": "code",
   "execution_count": 300,
   "metadata": {},
   "outputs": [
    {
     "ename": "FileNotFoundError",
     "evalue": "[Errno 2] No such file or directory: './Authors/Johann Wolfgang von Goethe/Egmon.txt'",
     "output_type": "error",
     "traceback": [
      "\u001b[0;31m---------------------------------------------------------------------------\u001b[0m",
      "\u001b[0;31mFileNotFoundError\u001b[0m                         Traceback (most recent call last)",
      "\u001b[0;32m<ipython-input-300-743d1ba845cd>\u001b[0m in \u001b[0;36m<module>\u001b[0;34m\u001b[0m\n\u001b[1;32m      1\u001b[0m \u001b[0;32mfor\u001b[0m \u001b[0mbook\u001b[0m \u001b[0;32min\u001b[0m \u001b[0mBook\u001b[0m\u001b[0;34m.\u001b[0m\u001b[0mall\u001b[0m\u001b[0;34m:\u001b[0m\u001b[0;34m\u001b[0m\u001b[0;34m\u001b[0m\u001b[0m\n\u001b[0;32m----> 2\u001b[0;31m     \u001b[0mbook\u001b[0m\u001b[0;34m.\u001b[0m\u001b[0mread\u001b[0m\u001b[0;34m(\u001b[0m\u001b[0;34m)\u001b[0m\u001b[0;34m\u001b[0m\u001b[0;34m\u001b[0m\u001b[0m\n\u001b[0m",
      "\u001b[0;32m<ipython-input-296-962d3fed1e6e>\u001b[0m in \u001b[0;36mread\u001b[0;34m(self)\u001b[0m\n\u001b[1;32m     26\u001b[0m \u001b[0;34m\u001b[0m\u001b[0m\n\u001b[1;32m     27\u001b[0m     \u001b[0;32mdef\u001b[0m \u001b[0mread\u001b[0m\u001b[0;34m(\u001b[0m\u001b[0mself\u001b[0m\u001b[0;34m)\u001b[0m\u001b[0;34m:\u001b[0m\u001b[0;34m\u001b[0m\u001b[0;34m\u001b[0m\u001b[0m\n\u001b[0;32m---> 28\u001b[0;31m         \u001b[0;32mwith\u001b[0m \u001b[0mopen\u001b[0m\u001b[0;34m(\u001b[0m\u001b[0;34m'./Authors/'\u001b[0m \u001b[0;34m+\u001b[0m \u001b[0mself\u001b[0m\u001b[0;34m.\u001b[0m\u001b[0mfpath\u001b[0m \u001b[0;34m+\u001b[0m \u001b[0;34m'.txt'\u001b[0m\u001b[0;34m,\u001b[0m\u001b[0mencoding\u001b[0m\u001b[0;34m=\u001b[0m\u001b[0;34m'iso-8859-1'\u001b[0m\u001b[0;34m)\u001b[0m \u001b[0;32mas\u001b[0m \u001b[0mf\u001b[0m\u001b[0;34m:\u001b[0m\u001b[0;34m\u001b[0m\u001b[0;34m\u001b[0m\u001b[0m\n\u001b[0m\u001b[1;32m     29\u001b[0m             \u001b[0mself\u001b[0m\u001b[0;34m.\u001b[0m\u001b[0mtext\u001b[0m \u001b[0;34m=\u001b[0m \u001b[0mf\u001b[0m\u001b[0;34m.\u001b[0m\u001b[0mread\u001b[0m\u001b[0;34m(\u001b[0m\u001b[0;34m)\u001b[0m\u001b[0;34m\u001b[0m\u001b[0;34m\u001b[0m\u001b[0m\n\u001b[1;32m     30\u001b[0m         \u001b[0;31m#need to validate this\u001b[0m\u001b[0;34m\u001b[0m\u001b[0;34m\u001b[0m\u001b[0;34m\u001b[0m\u001b[0m\n",
      "\u001b[0;31mFileNotFoundError\u001b[0m: [Errno 2] No such file or directory: './Authors/Johann Wolfgang von Goethe/Egmon.txt'"
     ]
    }
   ],
   "source": [
    "for book in Book.all:\n"
   ]
  }
 ],
 "metadata": {
  "kernelspec": {
   "display_name": "Python 3",
   "language": "python",
   "name": "python3"
  },
  "language_info": {
   "codemirror_mode": {
    "name": "ipython",
    "version": 3
   },
   "file_extension": ".py",
   "mimetype": "text/x-python",
   "name": "python",
   "nbconvert_exporter": "python",
   "pygments_lexer": "ipython3",
   "version": "3.6.8"
  }
 },
 "nbformat": 4,
 "nbformat_minor": 2
}
